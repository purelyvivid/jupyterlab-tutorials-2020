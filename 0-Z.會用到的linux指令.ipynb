{
 "cells": [
  {
   "cell_type": "markdown",
   "metadata": {},
   "source": [
    "# 基礎linux指令"
   ]
  },
  {
   "cell_type": "markdown",
   "metadata": {},
   "source": [
    "## 目錄的相關操作"
   ]
  },
  {
   "cell_type": "markdown",
   "metadata": {},
   "source": [
    "\n",
    "    cd：變換目錄\n",
    "    pwd：顯示目前的目錄\n",
    "    mkdir：建立一個新的目錄\n",
    "    rmdir：刪除一個空的目錄"
   ]
  },
  {
   "cell_type": "code",
   "execution_count": 1,
   "metadata": {},
   "outputs": [
    {
     "name": "stdout",
     "output_type": "stream",
     "text": [
      "/home/jovyan/tutorials\n"
     ]
    }
   ],
   "source": [
    "!pwd"
   ]
  },
  {
   "cell_type": "code",
   "execution_count": 2,
   "metadata": {},
   "outputs": [
    {
     "name": "stdout",
     "output_type": "stream",
     "text": [
      "/home/jovyan/tutorials/files\n"
     ]
    }
   ],
   "source": [
    "!cd files; pwd"
   ]
  },
  {
   "cell_type": "code",
   "execution_count": 3,
   "metadata": {},
   "outputs": [
    {
     "name": "stdout",
     "output_type": "stream",
     "text": [
      "/home/jovyan\n"
     ]
    }
   ],
   "source": [
    "!cd ~; pwd"
   ]
  },
  {
   "cell_type": "code",
   "execution_count": 4,
   "metadata": {},
   "outputs": [
    {
     "name": "stdout",
     "output_type": "stream",
     "text": [
      "/home/jovyan/tutorials/files\n"
     ]
    }
   ],
   "source": [
    "%%bash \n",
    "cd files\n",
    "pwd"
   ]
  },
  {
   "cell_type": "code",
   "execution_count": 5,
   "metadata": {},
   "outputs": [],
   "source": [
    "!mkdir new_dir"
   ]
  },
  {
   "cell_type": "code",
   "execution_count": 6,
   "metadata": {},
   "outputs": [],
   "source": [
    "!rmdir new_dir"
   ]
  },
  {
   "cell_type": "markdown",
   "metadata": {},
   "source": [
    "## 檔案與目錄管理"
   ]
  },
  {
   "cell_type": "markdown",
   "metadata": {},
   "source": [
    "### 檔案與目錄的檢視： ls"
   ]
  },
  {
   "cell_type": "code",
   "execution_count": 7,
   "metadata": {},
   "outputs": [
    {
     "name": "stdout",
     "output_type": "stream",
     "text": [
      "0.會用到的linux指令.ipynb\t\t     5.pytorch深度學習影像分類.ipynb\n",
      "1.bs4爬蟲.ipynb\t\t\t\t     files\n",
      "2.pillow影像處理.ipynb\t\t\t     index.html\n",
      "3.SpaCy自然語言處理-命名實體識別.ipynb\t     realcasehousebitprediction\n",
      "4.pandas.sklearn操作-實例房屋標價預測.ipynb\n"
     ]
    }
   ],
   "source": [
    "!ls"
   ]
  },
  {
   "cell_type": "markdown",
   "metadata": {},
   "source": [
    "### 複製、刪除與移動： cp, rm, mv"
   ]
  },
  {
   "cell_type": "code",
   "execution_count": 8,
   "metadata": {},
   "outputs": [
    {
     "name": "stdout",
     "output_type": "stream",
     "text": [
      "cp: cannot create regular file 'files/testdir/00002_copy.png': No such file or directory\n"
     ]
    }
   ],
   "source": [
    "!cp files/00002.png files/testdir/00002_copy.png"
   ]
  },
  {
   "cell_type": "code",
   "execution_count": 9,
   "metadata": {},
   "outputs": [
    {
     "name": "stdout",
     "output_type": "stream",
     "text": [
      "cp: cannot stat 'files/testdir': No such file or directory\n"
     ]
    }
   ],
   "source": [
    "!cp files/testdir files/testdir_copy"
   ]
  },
  {
   "cell_type": "code",
   "execution_count": 10,
   "metadata": {},
   "outputs": [
    {
     "name": "stdout",
     "output_type": "stream",
     "text": [
      "cp: cannot stat 'files/testdir': No such file or directory\n"
     ]
    }
   ],
   "source": [
    "!cp -R files/testdir files/testdir_copy"
   ]
  },
  {
   "cell_type": "code",
   "execution_count": 11,
   "metadata": {},
   "outputs": [
    {
     "name": "stdout",
     "output_type": "stream",
     "text": [
      "rm: cannot remove 'files/testdir_copy': No such file or directory\n"
     ]
    }
   ],
   "source": [
    "!rm files/testdir_copy"
   ]
  },
  {
   "cell_type": "code",
   "execution_count": 12,
   "metadata": {},
   "outputs": [
    {
     "name": "stdout",
     "output_type": "stream",
     "text": [
      "rm: cannot remove 'files/testdir_copy': No such file or directory\n"
     ]
    }
   ],
   "source": [
    "!rm -R files/testdir_copy"
   ]
  },
  {
   "cell_type": "code",
   "execution_count": 13,
   "metadata": {},
   "outputs": [
    {
     "name": "stdout",
     "output_type": "stream",
     "text": [
      "mv: cannot stat 'files/testdir/00002_copy.png': No such file or directory\n"
     ]
    }
   ],
   "source": [
    "!mv files/testdir/00002_copy.png files/ #將某個檔案移動到某個目錄去"
   ]
  },
  {
   "cell_type": "code",
   "execution_count": 14,
   "metadata": {},
   "outputs": [],
   "source": [
    "!rm -Rf files/testdir"
   ]
  },
  {
   "cell_type": "markdown",
   "metadata": {},
   "source": [
    "### 建置新檔： touch"
   ]
  },
  {
   "cell_type": "code",
   "execution_count": 15,
   "metadata": {},
   "outputs": [],
   "source": [
    "!touch files/test123.txt"
   ]
  },
  {
   "cell_type": "code",
   "execution_count": 16,
   "metadata": {},
   "outputs": [],
   "source": [
    "!rm files/test123.txt"
   ]
  },
  {
   "cell_type": "markdown",
   "metadata": {},
   "source": [
    "# 壓縮與解壓縮"
   ]
  },
  {
   "cell_type": "code",
   "execution_count": 17,
   "metadata": {},
   "outputs": [],
   "source": [
    "!mkdir my_dir\n",
    "!touch my_dir/test123.txt\n",
    "!touch my_dir/test456.txt"
   ]
  },
  {
   "cell_type": "code",
   "execution_count": 18,
   "metadata": {},
   "outputs": [
    {
     "name": "stdout",
     "output_type": "stream",
     "text": [
      "my_dir/\n",
      "my_dir/test123.txt\n",
      "my_dir/test456.txt\n"
     ]
    }
   ],
   "source": [
    "!tar zcvf my_file_name.tar.gz my_dir #壓縮"
   ]
  },
  {
   "cell_type": "code",
   "execution_count": 19,
   "metadata": {},
   "outputs": [],
   "source": [
    "!rm -Rf my_dir"
   ]
  },
  {
   "cell_type": "code",
   "execution_count": 20,
   "metadata": {},
   "outputs": [
    {
     "name": "stdout",
     "output_type": "stream",
     "text": [
      "my_dir/\n",
      "my_dir/test123.txt\n",
      "my_dir/test456.txt\n"
     ]
    }
   ],
   "source": [
    "!tar zxvf my_file_name.tar.gz #解壓縮"
   ]
  },
  {
   "cell_type": "code",
   "execution_count": 21,
   "metadata": {},
   "outputs": [],
   "source": [
    "!rm -Rf my_dir\n",
    "!rm my_file_name.tar.gz"
   ]
  },
  {
   "cell_type": "markdown",
   "metadata": {},
   "source": [
    "# 查看資料夾大小"
   ]
  },
  {
   "cell_type": "markdown",
   "metadata": {},
   "source": [
    "    ls -l：列出檔案及資料夾\n",
    "    grep ^d：過濾出資料夾\n",
    "    awk '{print $9}'：取第9個欄位，也就是資料夾名稱\n",
    "    xargs du -s：列出資料夾大小 (單位是 K)\n",
    "    sort -n：按數字大小排序"
   ]
  },
  {
   "cell_type": "code",
   "execution_count": 22,
   "metadata": {},
   "outputs": [
    {
     "name": "stdout",
     "output_type": "stream",
     "text": [
      "105M\tfiles\n",
      "484K\trealcasehousebitprediction\n"
     ]
    }
   ],
   "source": [
    "# 看某一層資料夾(不包含檔案)並排序佔用空間大小(由小到大)\n",
    "!ls -l | grep ^d | awk '{print $9}' | xargs du -sh | sort -n"
   ]
  },
  {
   "cell_type": "code",
   "execution_count": 23,
   "metadata": {},
   "outputs": [
    {
     "name": "stdout",
     "output_type": "stream",
     "text": [
      "484K\trealcasehousebitprediction\n",
      "105M\tfiles\n"
     ]
    }
   ],
   "source": [
    "# 看某一層資料夾(不包含檔案)並排序佔用空間大小(由大到小)\n",
    "!ls -l | grep ^d | awk '{print $9}' | xargs du -sh | sort -rn"
   ]
  },
  {
   "cell_type": "code",
   "execution_count": 24,
   "metadata": {},
   "outputs": [
    {
     "name": "stdout",
     "output_type": "stream",
     "text": [
      "484K\trealcasehousebitprediction\n",
      "105M\tfiles\n"
     ]
    }
   ],
   "source": [
    "# 看某一層資料夾(不包含檔案)並排序佔用空間大小(由大到小) 並且列出前2大\n",
    "!ls -l | grep ^d | awk '{print $9}' | xargs du -sh | sort -rn | head -2"
   ]
  },
  {
   "cell_type": "code",
   "execution_count": 25,
   "metadata": {},
   "outputs": [
    {
     "name": "stdout",
     "output_type": "stream",
     "text": [
      "484K\trealcasehousebitprediction\n",
      "136K\t2.pillow影像處理.ipynb\n",
      "105M\tfiles\n",
      "88K\t4.pandas.sklearn操作-實例房屋標價預測.ipynb\n",
      "88K\t3.SpaCy自然語言處理-命名實體識別.ipynb\n",
      "12K\t1.bs4爬蟲.ipynb\n",
      "12K\t0.會用到的linux指令.ipynb\n",
      "4.2M\t5.pytorch深度學習影像分類.ipynb\n",
      "4.0K\tindex.html\n"
     ]
    }
   ],
   "source": [
    "# 看某一層資料夾(包含檔案)並排序佔用空間大小(由大到小)\n",
    "!ls -l  | awk '{print $9}' | xargs du -sh | sort -rn"
   ]
  },
  {
   "cell_type": "code",
   "execution_count": 26,
   "metadata": {},
   "outputs": [
    {
     "name": "stdout",
     "output_type": "stream",
     "text": [
      "484K\t./realcasehousebitprediction\n",
      "115M\ttotal\n",
      "115M\t.\n",
      "105M\t./files\n",
      "4.4M\t./.ipynb_checkpoints\n"
     ]
    }
   ],
   "source": [
    "# 看某一層資料夾(不包含檔案)，排序佔用空間大小(由大到小)並作統計\n",
    "!du -chd 1 | sort -rn"
   ]
  },
  {
   "cell_type": "markdown",
   "metadata": {},
   "source": [
    "# GPU相關"
   ]
  },
  {
   "cell_type": "code",
   "execution_count": 27,
   "metadata": {},
   "outputs": [
    {
     "name": "stdout",
     "output_type": "stream",
     "text": [
      "/bin/sh: 1: nvidia-smi: not found\n"
     ]
    }
   ],
   "source": [
    "!nvidia-smi #查看目前GPU記憶體使用量"
   ]
  },
  {
   "cell_type": "code",
   "execution_count": 28,
   "metadata": {},
   "outputs": [
    {
     "name": "stdout",
     "output_type": "stream",
     "text": [
      "/bin/sh: 1: ncvv: not found\n"
     ]
    }
   ],
   "source": [
    "!ncvv -V #查詢cuda版本"
   ]
  },
  {
   "cell_type": "code",
   "execution_count": null,
   "metadata": {},
   "outputs": [],
   "source": []
  }
 ],
 "metadata": {
  "kernelspec": {
   "display_name": "Python 3",
   "language": "python",
   "name": "python3"
  },
  "language_info": {
   "codemirror_mode": {
    "name": "ipython",
    "version": 3
   },
   "file_extension": ".py",
   "mimetype": "text/x-python",
   "name": "python",
   "nbconvert_exporter": "python",
   "pygments_lexer": "ipython3",
   "version": "3.7.6"
  }
 },
 "nbformat": 4,
 "nbformat_minor": 4
}
