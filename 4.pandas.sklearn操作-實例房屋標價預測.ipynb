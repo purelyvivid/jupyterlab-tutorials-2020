{
 "cells": [
  {
   "cell_type": "markdown",
   "metadata": {
    "colab": {
     "base_uri": "https://localhost:8080/",
     "height": 35
    },
    "colab_type": "code",
    "id": "6_Yyx_csMtfs",
    "outputId": "23258105-bae4-4e12-83f6-91ff18c8def5"
   },
   "source": [
    "來源： https://github.com/purelyvivid/realcasehousebitprediction"
   ]
  },
  {
   "cell_type": "code",
   "execution_count": 1,
   "metadata": {
    "colab": {},
    "colab_type": "code",
    "id": "Fv0XPMZck0uc"
   },
   "outputs": [],
   "source": [
    "import pandas as pd\n",
    "import numpy as np "
   ]
  },
  {
   "cell_type": "markdown",
   "metadata": {},
   "source": [
    "# 載入資料"
   ]
  },
  {
   "cell_type": "code",
   "execution_count": 2,
   "metadata": {
    "colab": {},
    "colab_type": "code",
    "id": "kiFGcSlg7Jos"
   },
   "outputs": [],
   "source": [
    "input_fname = \"realcasehousebitprediction/house1.csv\""
   ]
  },
  {
   "cell_type": "code",
   "execution_count": 3,
   "metadata": {
    "colab": {
     "base_uri": "https://localhost:8080/",
     "height": 223
    },
    "colab_type": "code",
    "id": "Etkh3c8zk5Fw",
    "outputId": "aa71018b-ee86-45b4-878e-ee1188ce62e5"
   },
   "outputs": [
    {
     "data": {
      "text/html": [
       "<div>\n",
       "<style scoped>\n",
       "    .dataframe tbody tr th:only-of-type {\n",
       "        vertical-align: middle;\n",
       "    }\n",
       "\n",
       "    .dataframe tbody tr th {\n",
       "        vertical-align: top;\n",
       "    }\n",
       "\n",
       "    .dataframe thead th {\n",
       "        text-align: right;\n",
       "    }\n",
       "</style>\n",
       "<table border=\"1\" class=\"dataframe\">\n",
       "  <thead>\n",
       "    <tr style=\"text-align: right;\">\n",
       "      <th></th>\n",
       "      <th>次</th>\n",
       "      <th>樓層</th>\n",
       "      <th>棟</th>\n",
       "      <th>號</th>\n",
       "      <th>出售面積(坪)</th>\n",
       "      <th>持分土地面積(坪)</th>\n",
       "      <th>標售單價(元/m2)</th>\n",
       "      <th>標售總價(元)</th>\n",
       "      <th>投標數</th>\n",
       "      <th>得標總價(元)/標售總價(元)</th>\n",
       "    </tr>\n",
       "  </thead>\n",
       "  <tbody>\n",
       "    <tr>\n",
       "      <th>0</th>\n",
       "      <td>2019</td>\n",
       "      <td>3</td>\n",
       "      <td>C</td>\n",
       "      <td>_1</td>\n",
       "      <td>29.79</td>\n",
       "      <td>5.31</td>\n",
       "      <td>69,118</td>\n",
       "      <td>6,806,071</td>\n",
       "      <td>2</td>\n",
       "      <td>1.0171</td>\n",
       "    </tr>\n",
       "    <tr>\n",
       "      <th>1</th>\n",
       "      <td>2019</td>\n",
       "      <td>5</td>\n",
       "      <td>C</td>\n",
       "      <td>_1</td>\n",
       "      <td>29.79</td>\n",
       "      <td>5.31</td>\n",
       "      <td>69,118</td>\n",
       "      <td>6,806,071</td>\n",
       "      <td>3</td>\n",
       "      <td>1.0088</td>\n",
       "    </tr>\n",
       "    <tr>\n",
       "      <th>2</th>\n",
       "      <td>2019</td>\n",
       "      <td>6</td>\n",
       "      <td>C</td>\n",
       "      <td>_1</td>\n",
       "      <td>29.79</td>\n",
       "      <td>5.31</td>\n",
       "      <td>69,118</td>\n",
       "      <td>6,806,071</td>\n",
       "      <td>4</td>\n",
       "      <td>1.0298</td>\n",
       "    </tr>\n",
       "    <tr>\n",
       "      <th>3</th>\n",
       "      <td>2019</td>\n",
       "      <td>7</td>\n",
       "      <td>C</td>\n",
       "      <td>_1</td>\n",
       "      <td>29.79</td>\n",
       "      <td>5.31</td>\n",
       "      <td>69,723</td>\n",
       "      <td>6,865,651</td>\n",
       "      <td>6</td>\n",
       "      <td>1.1055</td>\n",
       "    </tr>\n",
       "    <tr>\n",
       "      <th>4</th>\n",
       "      <td>2019</td>\n",
       "      <td>4</td>\n",
       "      <td>D</td>\n",
       "      <td>_1</td>\n",
       "      <td>29.79</td>\n",
       "      <td>5.31</td>\n",
       "      <td>68,543</td>\n",
       "      <td>6,749,470</td>\n",
       "      <td>5</td>\n",
       "      <td>1.0214</td>\n",
       "    </tr>\n",
       "    <tr>\n",
       "      <th>5</th>\n",
       "      <td>2019</td>\n",
       "      <td>5</td>\n",
       "      <td>D</td>\n",
       "      <td>_1</td>\n",
       "      <td>29.79</td>\n",
       "      <td>5.31</td>\n",
       "      <td>69,118</td>\n",
       "      <td>6,806,071</td>\n",
       "      <td>3</td>\n",
       "      <td>1.0690</td>\n",
       "    </tr>\n",
       "    <tr>\n",
       "      <th>6</th>\n",
       "      <td>2019</td>\n",
       "      <td>7</td>\n",
       "      <td>D</td>\n",
       "      <td>_1</td>\n",
       "      <td>29.79</td>\n",
       "      <td>5.31</td>\n",
       "      <td>69,723</td>\n",
       "      <td>6,865,651</td>\n",
       "      <td>7</td>\n",
       "      <td>1.0857</td>\n",
       "    </tr>\n",
       "    <tr>\n",
       "      <th>7</th>\n",
       "      <td>2019</td>\n",
       "      <td>3</td>\n",
       "      <td>C</td>\n",
       "      <td>_2</td>\n",
       "      <td>32.10</td>\n",
       "      <td>5.77</td>\n",
       "      <td>67,229</td>\n",
       "      <td>7,134,310</td>\n",
       "      <td>3</td>\n",
       "      <td>1.2167</td>\n",
       "    </tr>\n",
       "    <tr>\n",
       "      <th>8</th>\n",
       "      <td>2019</td>\n",
       "      <td>4</td>\n",
       "      <td>C</td>\n",
       "      <td>_2</td>\n",
       "      <td>32.10</td>\n",
       "      <td>5.77</td>\n",
       "      <td>66,624</td>\n",
       "      <td>7,070,110</td>\n",
       "      <td>2</td>\n",
       "      <td>1.0268</td>\n",
       "    </tr>\n",
       "    <tr>\n",
       "      <th>9</th>\n",
       "      <td>2019</td>\n",
       "      <td>5</td>\n",
       "      <td>C</td>\n",
       "      <td>_2</td>\n",
       "      <td>32.10</td>\n",
       "      <td>5.77</td>\n",
       "      <td>67,229</td>\n",
       "      <td>7,134,310</td>\n",
       "      <td>3</td>\n",
       "      <td>1.1396</td>\n",
       "    </tr>\n",
       "    <tr>\n",
       "      <th>10</th>\n",
       "      <td>2019</td>\n",
       "      <td>6</td>\n",
       "      <td>C</td>\n",
       "      <td>_2</td>\n",
       "      <td>32.10</td>\n",
       "      <td>5.77</td>\n",
       "      <td>67,229</td>\n",
       "      <td>7,134,310</td>\n",
       "      <td>7</td>\n",
       "      <td>1.1569</td>\n",
       "    </tr>\n",
       "    <tr>\n",
       "      <th>11</th>\n",
       "      <td>2019</td>\n",
       "      <td>4</td>\n",
       "      <td>D</td>\n",
       "      <td>_2</td>\n",
       "      <td>32.10</td>\n",
       "      <td>5.77</td>\n",
       "      <td>66,624</td>\n",
       "      <td>7,070,110</td>\n",
       "      <td>5</td>\n",
       "      <td>1.1857</td>\n",
       "    </tr>\n",
       "    <tr>\n",
       "      <th>12</th>\n",
       "      <td>2019</td>\n",
       "      <td>6</td>\n",
       "      <td>D</td>\n",
       "      <td>_2</td>\n",
       "      <td>32.10</td>\n",
       "      <td>5.77</td>\n",
       "      <td>70,325</td>\n",
       "      <td>7,462,937</td>\n",
       "      <td>10</td>\n",
       "      <td>1.1106</td>\n",
       "    </tr>\n",
       "    <tr>\n",
       "      <th>13</th>\n",
       "      <td>2019</td>\n",
       "      <td>7</td>\n",
       "      <td>D</td>\n",
       "      <td>_2</td>\n",
       "      <td>32.10</td>\n",
       "      <td>5.77</td>\n",
       "      <td>67,803</td>\n",
       "      <td>7,195,300</td>\n",
       "      <td>17</td>\n",
       "      <td>1.2782</td>\n",
       "    </tr>\n",
       "    <tr>\n",
       "      <th>14</th>\n",
       "      <td>2019</td>\n",
       "      <td>3</td>\n",
       "      <td>A</td>\n",
       "      <td>_1</td>\n",
       "      <td>46.30</td>\n",
       "      <td>8.30</td>\n",
       "      <td>69,008</td>\n",
       "      <td>10,563,015</td>\n",
       "      <td>8</td>\n",
       "      <td>1.3491</td>\n",
       "    </tr>\n",
       "    <tr>\n",
       "      <th>15</th>\n",
       "      <td>2019</td>\n",
       "      <td>3</td>\n",
       "      <td>B</td>\n",
       "      <td>_3</td>\n",
       "      <td>47.85</td>\n",
       "      <td>8.59</td>\n",
       "      <td>66,464</td>\n",
       "      <td>10,512,580</td>\n",
       "      <td>3</td>\n",
       "      <td>1.0532</td>\n",
       "    </tr>\n",
       "    <tr>\n",
       "      <th>16</th>\n",
       "      <td>2019</td>\n",
       "      <td>4</td>\n",
       "      <td>B</td>\n",
       "      <td>_3</td>\n",
       "      <td>47.85</td>\n",
       "      <td>8.59</td>\n",
       "      <td>65,889</td>\n",
       "      <td>10,421,665</td>\n",
       "      <td>2</td>\n",
       "      <td>1.0118</td>\n",
       "    </tr>\n",
       "    <tr>\n",
       "      <th>17</th>\n",
       "      <td>2020</td>\n",
       "      <td>8</td>\n",
       "      <td>C</td>\n",
       "      <td>_1</td>\n",
       "      <td>29.79</td>\n",
       "      <td>5.31</td>\n",
       "      <td>69723</td>\n",
       "      <td>6,865,651</td>\n",
       "      <td>?</td>\n",
       "      <td>?</td>\n",
       "    </tr>\n",
       "    <tr>\n",
       "      <th>18</th>\n",
       "      <td>2020</td>\n",
       "      <td>8</td>\n",
       "      <td>C</td>\n",
       "      <td>_2</td>\n",
       "      <td>32.10</td>\n",
       "      <td>5.77</td>\n",
       "      <td>67803</td>\n",
       "      <td>7,195,300</td>\n",
       "      <td>?</td>\n",
       "      <td>?</td>\n",
       "    </tr>\n",
       "    <tr>\n",
       "      <th>19</th>\n",
       "      <td>2020</td>\n",
       "      <td>9</td>\n",
       "      <td>C</td>\n",
       "      <td>_1</td>\n",
       "      <td>29.79</td>\n",
       "      <td>5.31</td>\n",
       "      <td>70873</td>\n",
       "      <td>6,978,853</td>\n",
       "      <td>?</td>\n",
       "      <td>?</td>\n",
       "    </tr>\n",
       "    <tr>\n",
       "      <th>20</th>\n",
       "      <td>2020</td>\n",
       "      <td>9</td>\n",
       "      <td>C</td>\n",
       "      <td>_2</td>\n",
       "      <td>32.10</td>\n",
       "      <td>5.77</td>\n",
       "      <td>68983</td>\n",
       "      <td>7,320,490</td>\n",
       "      <td>?</td>\n",
       "      <td>?</td>\n",
       "    </tr>\n",
       "    <tr>\n",
       "      <th>21</th>\n",
       "      <td>2020</td>\n",
       "      <td>1</td>\n",
       "      <td>C</td>\n",
       "      <td>_1</td>\n",
       "      <td>29.79</td>\n",
       "      <td>5.31</td>\n",
       "      <td>72053</td>\n",
       "      <td>7,095,034</td>\n",
       "      <td>?</td>\n",
       "      <td>?</td>\n",
       "    </tr>\n",
       "    <tr>\n",
       "      <th>22</th>\n",
       "      <td>2020</td>\n",
       "      <td>1</td>\n",
       "      <td>C</td>\n",
       "      <td>_2</td>\n",
       "      <td>32.10</td>\n",
       "      <td>5.77</td>\n",
       "      <td>70133</td>\n",
       "      <td>7,442,470</td>\n",
       "      <td>?</td>\n",
       "      <td>?</td>\n",
       "    </tr>\n",
       "    <tr>\n",
       "      <th>23</th>\n",
       "      <td>2020</td>\n",
       "      <td>1</td>\n",
       "      <td>C</td>\n",
       "      <td>_1</td>\n",
       "      <td>29.79</td>\n",
       "      <td>5.31</td>\n",
       "      <td>72053</td>\n",
       "      <td>7,095,034</td>\n",
       "      <td>?</td>\n",
       "      <td>?</td>\n",
       "    </tr>\n",
       "    <tr>\n",
       "      <th>24</th>\n",
       "      <td>2020</td>\n",
       "      <td>1</td>\n",
       "      <td>C</td>\n",
       "      <td>_2</td>\n",
       "      <td>32.10</td>\n",
       "      <td>5.77</td>\n",
       "      <td>70133</td>\n",
       "      <td>7,442,470</td>\n",
       "      <td>?</td>\n",
       "      <td>?</td>\n",
       "    </tr>\n",
       "    <tr>\n",
       "      <th>25</th>\n",
       "      <td>2020</td>\n",
       "      <td>1</td>\n",
       "      <td>C</td>\n",
       "      <td>_1</td>\n",
       "      <td>29.79</td>\n",
       "      <td>5.31</td>\n",
       "      <td>73202</td>\n",
       "      <td>7,208,236</td>\n",
       "      <td>?</td>\n",
       "      <td>?</td>\n",
       "    </tr>\n",
       "    <tr>\n",
       "      <th>26</th>\n",
       "      <td>2020</td>\n",
       "      <td>1</td>\n",
       "      <td>C</td>\n",
       "      <td>_2</td>\n",
       "      <td>32.10</td>\n",
       "      <td>5.77</td>\n",
       "      <td>71312</td>\n",
       "      <td>7,567,660</td>\n",
       "      <td>?</td>\n",
       "      <td>?</td>\n",
       "    </tr>\n",
       "    <tr>\n",
       "      <th>27</th>\n",
       "      <td>2020</td>\n",
       "      <td>4</td>\n",
       "      <td>C</td>\n",
       "      <td>_5</td>\n",
       "      <td>45.96</td>\n",
       "      <td>8.25</td>\n",
       "      <td>67300</td>\n",
       "      <td>10,226,179</td>\n",
       "      <td>?</td>\n",
       "      <td>?</td>\n",
       "    </tr>\n",
       "    <tr>\n",
       "      <th>28</th>\n",
       "      <td>2020</td>\n",
       "      <td>8</td>\n",
       "      <td>D</td>\n",
       "      <td>_1</td>\n",
       "      <td>29.79</td>\n",
       "      <td>5.31</td>\n",
       "      <td>69723</td>\n",
       "      <td>6,865,651</td>\n",
       "      <td>?</td>\n",
       "      <td>?</td>\n",
       "    </tr>\n",
       "    <tr>\n",
       "      <th>29</th>\n",
       "      <td>2020</td>\n",
       "      <td>8</td>\n",
       "      <td>D</td>\n",
       "      <td>_2</td>\n",
       "      <td>32.10</td>\n",
       "      <td>5.77</td>\n",
       "      <td>67803</td>\n",
       "      <td>7,195,300</td>\n",
       "      <td>?</td>\n",
       "      <td>?</td>\n",
       "    </tr>\n",
       "    <tr>\n",
       "      <th>30</th>\n",
       "      <td>2020</td>\n",
       "      <td>9</td>\n",
       "      <td>D</td>\n",
       "      <td>_1</td>\n",
       "      <td>29.79</td>\n",
       "      <td>5.31</td>\n",
       "      <td>70873</td>\n",
       "      <td>6,978,853</td>\n",
       "      <td>?</td>\n",
       "      <td>?</td>\n",
       "    </tr>\n",
       "    <tr>\n",
       "      <th>31</th>\n",
       "      <td>2020</td>\n",
       "      <td>9</td>\n",
       "      <td>D</td>\n",
       "      <td>_2</td>\n",
       "      <td>32.10</td>\n",
       "      <td>5.77</td>\n",
       "      <td>68983</td>\n",
       "      <td>7,320,490</td>\n",
       "      <td>?</td>\n",
       "      <td>?</td>\n",
       "    </tr>\n",
       "    <tr>\n",
       "      <th>32</th>\n",
       "      <td>2020</td>\n",
       "      <td>1</td>\n",
       "      <td>D</td>\n",
       "      <td>_1</td>\n",
       "      <td>29.79</td>\n",
       "      <td>5.31</td>\n",
       "      <td>72053</td>\n",
       "      <td>7,095,034</td>\n",
       "      <td>?</td>\n",
       "      <td>?</td>\n",
       "    </tr>\n",
       "    <tr>\n",
       "      <th>33</th>\n",
       "      <td>2020</td>\n",
       "      <td>1</td>\n",
       "      <td>D</td>\n",
       "      <td>_2</td>\n",
       "      <td>32.10</td>\n",
       "      <td>5.77</td>\n",
       "      <td>70133</td>\n",
       "      <td>7,442,470</td>\n",
       "      <td>?</td>\n",
       "      <td>?</td>\n",
       "    </tr>\n",
       "    <tr>\n",
       "      <th>34</th>\n",
       "      <td>2020</td>\n",
       "      <td>1</td>\n",
       "      <td>D</td>\n",
       "      <td>_1</td>\n",
       "      <td>29.79</td>\n",
       "      <td>5.31</td>\n",
       "      <td>72053</td>\n",
       "      <td>7,095,034</td>\n",
       "      <td>?</td>\n",
       "      <td>?</td>\n",
       "    </tr>\n",
       "    <tr>\n",
       "      <th>35</th>\n",
       "      <td>2020</td>\n",
       "      <td>1</td>\n",
       "      <td>D</td>\n",
       "      <td>_2</td>\n",
       "      <td>32.10</td>\n",
       "      <td>5.77</td>\n",
       "      <td>70133</td>\n",
       "      <td>7,442,470</td>\n",
       "      <td>?</td>\n",
       "      <td>?</td>\n",
       "    </tr>\n",
       "    <tr>\n",
       "      <th>36</th>\n",
       "      <td>2020</td>\n",
       "      <td>1</td>\n",
       "      <td>D</td>\n",
       "      <td>_1</td>\n",
       "      <td>29.79</td>\n",
       "      <td>5.31</td>\n",
       "      <td>73202</td>\n",
       "      <td>7,208,236</td>\n",
       "      <td>?</td>\n",
       "      <td>?</td>\n",
       "    </tr>\n",
       "    <tr>\n",
       "      <th>37</th>\n",
       "      <td>2020</td>\n",
       "      <td>1</td>\n",
       "      <td>D</td>\n",
       "      <td>_2</td>\n",
       "      <td>32.10</td>\n",
       "      <td>5.77</td>\n",
       "      <td>71312</td>\n",
       "      <td>7,567,660</td>\n",
       "      <td>?</td>\n",
       "      <td>?</td>\n",
       "    </tr>\n",
       "    <tr>\n",
       "      <th>38</th>\n",
       "      <td>2020</td>\n",
       "      <td>1</td>\n",
       "      <td>D</td>\n",
       "      <td>_1</td>\n",
       "      <td>29.79</td>\n",
       "      <td>5.31</td>\n",
       "      <td>73202</td>\n",
       "      <td>7,208,236</td>\n",
       "      <td>?</td>\n",
       "      <td>?</td>\n",
       "    </tr>\n",
       "    <tr>\n",
       "      <th>39</th>\n",
       "      <td>2020</td>\n",
       "      <td>1</td>\n",
       "      <td>D</td>\n",
       "      <td>_2</td>\n",
       "      <td>32.10</td>\n",
       "      <td>5.77</td>\n",
       "      <td>71312</td>\n",
       "      <td>7,567,660</td>\n",
       "      <td>?</td>\n",
       "      <td>?</td>\n",
       "    </tr>\n",
       "    <tr>\n",
       "      <th>40</th>\n",
       "      <td>2020</td>\n",
       "      <td>3</td>\n",
       "      <td>D</td>\n",
       "      <td>_3</td>\n",
       "      <td>47.77</td>\n",
       "      <td>8.48</td>\n",
       "      <td>71239</td>\n",
       "      <td>11,249,376</td>\n",
       "      <td>?</td>\n",
       "      <td>?</td>\n",
       "    </tr>\n",
       "    <tr>\n",
       "      <th>41</th>\n",
       "      <td>2020</td>\n",
       "      <td>6</td>\n",
       "      <td>D</td>\n",
       "      <td>_5</td>\n",
       "      <td>45.96</td>\n",
       "      <td>8.25</td>\n",
       "      <td>71121</td>\n",
       "      <td>10,806,789</td>\n",
       "      <td>?</td>\n",
       "      <td>?</td>\n",
       "    </tr>\n",
       "  </tbody>\n",
       "</table>\n",
       "</div>"
      ],
      "text/plain": [
       "       次  樓層  棟   號  出售面積(坪)  持分土地面積(坪) 標售單價(元/m2)     標售總價(元) 投標數  \\\n",
       "0   2019   3  C  _1    29.79       5.31     69,118   6,806,071   2   \n",
       "1   2019   5  C  _1    29.79       5.31     69,118   6,806,071   3   \n",
       "2   2019   6  C  _1    29.79       5.31     69,118   6,806,071   4   \n",
       "3   2019   7  C  _1    29.79       5.31     69,723   6,865,651   6   \n",
       "4   2019   4  D  _1    29.79       5.31     68,543   6,749,470   5   \n",
       "5   2019   5  D  _1    29.79       5.31     69,118   6,806,071   3   \n",
       "6   2019   7  D  _1    29.79       5.31     69,723   6,865,651   7   \n",
       "7   2019   3  C  _2    32.10       5.77     67,229   7,134,310   3   \n",
       "8   2019   4  C  _2    32.10       5.77     66,624   7,070,110   2   \n",
       "9   2019   5  C  _2    32.10       5.77     67,229   7,134,310   3   \n",
       "10  2019   6  C  _2    32.10       5.77     67,229   7,134,310   7   \n",
       "11  2019   4  D  _2    32.10       5.77     66,624   7,070,110   5   \n",
       "12  2019   6  D  _2    32.10       5.77     70,325   7,462,937  10   \n",
       "13  2019   7  D  _2    32.10       5.77     67,803   7,195,300  17   \n",
       "14  2019   3  A  _1    46.30       8.30     69,008  10,563,015   8   \n",
       "15  2019   3  B  _3    47.85       8.59     66,464  10,512,580   3   \n",
       "16  2019   4  B  _3    47.85       8.59     65,889  10,421,665   2   \n",
       "17  2020   8  C  _1    29.79       5.31      69723   6,865,651   ?   \n",
       "18  2020   8  C  _2    32.10       5.77      67803   7,195,300   ?   \n",
       "19  2020   9  C  _1    29.79       5.31      70873   6,978,853   ?   \n",
       "20  2020   9  C  _2    32.10       5.77      68983   7,320,490   ?   \n",
       "21  2020   1  C  _1    29.79       5.31      72053   7,095,034   ?   \n",
       "22  2020   1  C  _2    32.10       5.77      70133   7,442,470   ?   \n",
       "23  2020   1  C  _1    29.79       5.31      72053   7,095,034   ?   \n",
       "24  2020   1  C  _2    32.10       5.77      70133   7,442,470   ?   \n",
       "25  2020   1  C  _1    29.79       5.31      73202   7,208,236   ?   \n",
       "26  2020   1  C  _2    32.10       5.77      71312   7,567,660   ?   \n",
       "27  2020   4  C  _5    45.96       8.25      67300  10,226,179   ?   \n",
       "28  2020   8  D  _1    29.79       5.31      69723   6,865,651   ?   \n",
       "29  2020   8  D  _2    32.10       5.77      67803   7,195,300   ?   \n",
       "30  2020   9  D  _1    29.79       5.31      70873   6,978,853   ?   \n",
       "31  2020   9  D  _2    32.10       5.77      68983   7,320,490   ?   \n",
       "32  2020   1  D  _1    29.79       5.31      72053   7,095,034   ?   \n",
       "33  2020   1  D  _2    32.10       5.77      70133   7,442,470   ?   \n",
       "34  2020   1  D  _1    29.79       5.31      72053   7,095,034   ?   \n",
       "35  2020   1  D  _2    32.10       5.77      70133   7,442,470   ?   \n",
       "36  2020   1  D  _1    29.79       5.31      73202   7,208,236   ?   \n",
       "37  2020   1  D  _2    32.10       5.77      71312   7,567,660   ?   \n",
       "38  2020   1  D  _1    29.79       5.31      73202   7,208,236   ?   \n",
       "39  2020   1  D  _2    32.10       5.77      71312   7,567,660   ?   \n",
       "40  2020   3  D  _3    47.77       8.48      71239  11,249,376   ?   \n",
       "41  2020   6  D  _5    45.96       8.25      71121  10,806,789   ?   \n",
       "\n",
       "   得標總價(元)/標售總價(元)  \n",
       "0           1.0171  \n",
       "1           1.0088  \n",
       "2           1.0298  \n",
       "3           1.1055  \n",
       "4           1.0214  \n",
       "5           1.0690  \n",
       "6           1.0857  \n",
       "7           1.2167  \n",
       "8           1.0268  \n",
       "9           1.1396  \n",
       "10          1.1569  \n",
       "11          1.1857  \n",
       "12          1.1106  \n",
       "13          1.2782  \n",
       "14          1.3491  \n",
       "15          1.0532  \n",
       "16          1.0118  \n",
       "17               ?  \n",
       "18               ?  \n",
       "19               ?  \n",
       "20               ?  \n",
       "21               ?  \n",
       "22               ?  \n",
       "23               ?  \n",
       "24               ?  \n",
       "25               ?  \n",
       "26               ?  \n",
       "27               ?  \n",
       "28               ?  \n",
       "29               ?  \n",
       "30               ?  \n",
       "31               ?  \n",
       "32               ?  \n",
       "33               ?  \n",
       "34               ?  \n",
       "35               ?  \n",
       "36               ?  \n",
       "37               ?  \n",
       "38               ?  \n",
       "39               ?  \n",
       "40               ?  \n",
       "41               ?  "
      ]
     },
     "execution_count": 3,
     "metadata": {},
     "output_type": "execute_result"
    }
   ],
   "source": [
    "df = pd.read_csv(input_fname, encoding=\"big5\")\n",
    "df"
   ]
  },
  {
   "cell_type": "markdown",
   "metadata": {},
   "source": [
    "# 資料清理"
   ]
  },
  {
   "cell_type": "markdown",
   "metadata": {},
   "source": [
    "\"7,442,470\" --> \"7442470\""
   ]
  },
  {
   "cell_type": "code",
   "execution_count": 4,
   "metadata": {
    "colab": {},
    "colab_type": "code",
    "id": "8t399_Shoikm"
   },
   "outputs": [],
   "source": [
    "to_int = lambda x: int(x.replace(\",\",\"\"))"
   ]
  },
  {
   "cell_type": "code",
   "execution_count": 5,
   "metadata": {
    "colab": {},
    "colab_type": "code",
    "id": "Wagk1VqKpKQo"
   },
   "outputs": [],
   "source": [
    "df[\"標售單價(元/m2)\"] = df[\"標售單價(元/m2)\"].apply(to_int)\n",
    "df[\"標售總價(元)\"] = df[\"標售總價(元)\"].apply(to_int)"
   ]
  },
  {
   "cell_type": "code",
   "execution_count": 6,
   "metadata": {
    "colab": {},
    "colab_type": "code",
    "id": "Qt7u6T3i9K3s"
   },
   "outputs": [],
   "source": [
    "df_op = df.copy()"
   ]
  },
  {
   "cell_type": "code",
   "execution_count": 7,
   "metadata": {
    "colab": {
     "base_uri": "https://localhost:8080/",
     "height": 223
    },
    "colab_type": "code",
    "id": "-98mxhkNpefq",
    "outputId": "898dc0ce-cab8-4652-8be2-3e2c55ee7a43"
   },
   "outputs": [
    {
     "data": {
      "text/html": [
       "<div>\n",
       "<style scoped>\n",
       "    .dataframe tbody tr th:only-of-type {\n",
       "        vertical-align: middle;\n",
       "    }\n",
       "\n",
       "    .dataframe tbody tr th {\n",
       "        vertical-align: top;\n",
       "    }\n",
       "\n",
       "    .dataframe thead th {\n",
       "        text-align: right;\n",
       "    }\n",
       "</style>\n",
       "<table border=\"1\" class=\"dataframe\">\n",
       "  <thead>\n",
       "    <tr style=\"text-align: right;\">\n",
       "      <th></th>\n",
       "      <th>次</th>\n",
       "      <th>樓層</th>\n",
       "      <th>棟</th>\n",
       "      <th>號</th>\n",
       "      <th>出售面積(坪)</th>\n",
       "      <th>持分土地面積(坪)</th>\n",
       "      <th>標售單價(元/m2)</th>\n",
       "      <th>標售總價(元)</th>\n",
       "      <th>投標數</th>\n",
       "      <th>得標總價(元)/標售總價(元)</th>\n",
       "    </tr>\n",
       "  </thead>\n",
       "  <tbody>\n",
       "    <tr>\n",
       "      <th>0</th>\n",
       "      <td>2019</td>\n",
       "      <td>3</td>\n",
       "      <td>C</td>\n",
       "      <td>_1</td>\n",
       "      <td>29.79</td>\n",
       "      <td>5.31</td>\n",
       "      <td>69118</td>\n",
       "      <td>6806071</td>\n",
       "      <td>2</td>\n",
       "      <td>1.0171</td>\n",
       "    </tr>\n",
       "    <tr>\n",
       "      <th>1</th>\n",
       "      <td>2019</td>\n",
       "      <td>5</td>\n",
       "      <td>C</td>\n",
       "      <td>_1</td>\n",
       "      <td>29.79</td>\n",
       "      <td>5.31</td>\n",
       "      <td>69118</td>\n",
       "      <td>6806071</td>\n",
       "      <td>3</td>\n",
       "      <td>1.0088</td>\n",
       "    </tr>\n",
       "    <tr>\n",
       "      <th>2</th>\n",
       "      <td>2019</td>\n",
       "      <td>6</td>\n",
       "      <td>C</td>\n",
       "      <td>_1</td>\n",
       "      <td>29.79</td>\n",
       "      <td>5.31</td>\n",
       "      <td>69118</td>\n",
       "      <td>6806071</td>\n",
       "      <td>4</td>\n",
       "      <td>1.0298</td>\n",
       "    </tr>\n",
       "    <tr>\n",
       "      <th>3</th>\n",
       "      <td>2019</td>\n",
       "      <td>7</td>\n",
       "      <td>C</td>\n",
       "      <td>_1</td>\n",
       "      <td>29.79</td>\n",
       "      <td>5.31</td>\n",
       "      <td>69723</td>\n",
       "      <td>6865651</td>\n",
       "      <td>6</td>\n",
       "      <td>1.1055</td>\n",
       "    </tr>\n",
       "    <tr>\n",
       "      <th>4</th>\n",
       "      <td>2019</td>\n",
       "      <td>4</td>\n",
       "      <td>D</td>\n",
       "      <td>_1</td>\n",
       "      <td>29.79</td>\n",
       "      <td>5.31</td>\n",
       "      <td>68543</td>\n",
       "      <td>6749470</td>\n",
       "      <td>5</td>\n",
       "      <td>1.0214</td>\n",
       "    </tr>\n",
       "  </tbody>\n",
       "</table>\n",
       "</div>"
      ],
      "text/plain": [
       "      次  樓層  棟   號  出售面積(坪)  持分土地面積(坪)  標售單價(元/m2)  標售總價(元) 投標數  \\\n",
       "0  2019   3  C  _1    29.79       5.31       69118  6806071   2   \n",
       "1  2019   5  C  _1    29.79       5.31       69118  6806071   3   \n",
       "2  2019   6  C  _1    29.79       5.31       69118  6806071   4   \n",
       "3  2019   7  C  _1    29.79       5.31       69723  6865651   6   \n",
       "4  2019   4  D  _1    29.79       5.31       68543  6749470   5   \n",
       "\n",
       "  得標總價(元)/標售總價(元)  \n",
       "0          1.0171  \n",
       "1          1.0088  \n",
       "2          1.0298  \n",
       "3          1.1055  \n",
       "4          1.0214  "
      ]
     },
     "execution_count": 7,
     "metadata": {},
     "output_type": "execute_result"
    }
   ],
   "source": [
    "df.head()"
   ]
  },
  {
   "cell_type": "markdown",
   "metadata": {},
   "source": [
    "取得 y"
   ]
  },
  {
   "cell_type": "markdown",
   "metadata": {},
   "source": [
    "- y_inter: 投標數\n",
    "- y: 得標價/起標價 （溢價率）"
   ]
  },
  {
   "cell_type": "code",
   "execution_count": 8,
   "metadata": {
    "colab": {},
    "colab_type": "code",
    "id": "bbhjBpEgCCvn"
   },
   "outputs": [],
   "source": [
    "no_2019 = np.array(df[\"次\"]==2019)\n",
    "no_2020 = np.array(df[\"次\"]==2020)"
   ]
  },
  {
   "cell_type": "code",
   "execution_count": 9,
   "metadata": {
    "colab": {},
    "colab_type": "code",
    "id": "TN71mIJz4ZTw"
   },
   "outputs": [],
   "source": [
    "y_inter = np.array(df.loc[no_2019,\"投標數\"].astype(np.float32))"
   ]
  },
  {
   "cell_type": "code",
   "execution_count": 10,
   "metadata": {
    "colab": {},
    "colab_type": "code",
    "id": "D9evtgD4oRol"
   },
   "outputs": [],
   "source": [
    "y = np.array(df.loc[no_2019,\"得標總價(元)/標售總價(元)\"].astype(np.float32))"
   ]
  },
  {
   "cell_type": "markdown",
   "metadata": {},
   "source": [
    "收集欄位名稱和資料的變數"
   ]
  },
  {
   "cell_type": "code",
   "execution_count": 11,
   "metadata": {
    "colab": {},
    "colab_type": "code",
    "id": "O0nFKB9fnisk"
   },
   "outputs": [],
   "source": [
    "feature_names_list = []\n",
    "X_list = []"
   ]
  },
  {
   "cell_type": "markdown",
   "metadata": {
    "colab_type": "text",
    "id": "kHxImrqTn1gH"
   },
   "source": [
    "## 離散變數 [\"棟\", \"號\"]"
   ]
  },
  {
   "cell_type": "code",
   "execution_count": 12,
   "metadata": {
    "colab": {},
    "colab_type": "code",
    "id": "MjmSNKoYk80-"
   },
   "outputs": [],
   "source": [
    "from sklearn.preprocessing import OneHotEncoder"
   ]
  },
  {
   "cell_type": "code",
   "execution_count": 13,
   "metadata": {
    "colab": {},
    "colab_type": "code",
    "id": "XQFKbmKilvsU"
   },
   "outputs": [],
   "source": [
    "cnames = [\"棟\", \"號\"]"
   ]
  },
  {
   "cell_type": "code",
   "execution_count": 14,
   "metadata": {
    "colab": {},
    "colab_type": "code",
    "id": "-MO2BZ4zlUej"
   },
   "outputs": [],
   "source": [
    "ohe = OneHotEncoder(sparse=False)\n",
    "X = ohe.fit_transform(df[cnames])"
   ]
  },
  {
   "cell_type": "code",
   "execution_count": 15,
   "metadata": {
    "colab": {
     "base_uri": "https://localhost:8080/",
     "height": 53
    },
    "colab_type": "code",
    "id": "b51yExOunMv3",
    "outputId": "d21a89f9-b112-4be5-f092-a3d32f24cc3b"
   },
   "outputs": [
    {
     "data": {
      "text/plain": [
       "array(['x0_A', 'x0_B', 'x0_C', 'x0_D', 'x1__1', 'x1__2', 'x1__3', 'x1__5'],\n",
       "      dtype=object)"
      ]
     },
     "execution_count": 15,
     "metadata": {},
     "output_type": "execute_result"
    }
   ],
   "source": [
    "ohe.get_feature_names()"
   ]
  },
  {
   "cell_type": "code",
   "execution_count": 16,
   "metadata": {
    "colab": {
     "base_uri": "https://localhost:8080/",
     "height": 35
    },
    "colab_type": "code",
    "id": "qXjE-OVPljU0",
    "outputId": "f867fd11-2680-48e4-b725-a2846ec0c899"
   },
   "outputs": [
    {
     "data": {
      "text/plain": [
       "['棟_A', '棟_B', '棟_C', '棟_D', '號_1', '號_2', '號_3', '號_5']"
      ]
     },
     "execution_count": 16,
     "metadata": {},
     "output_type": "execute_result"
    }
   ],
   "source": [
    "feature_names = []\n",
    "for i, cn in enumerate(ohe.get_feature_names()):\n",
    "    sp = cn.split(\"_\")\n",
    "    k = cnames[int(sp[0].replace(\"x\",\"\"))]+\"_\"+(\"\".join(sp[1:]))\n",
    "    feature_names.append(k)\n",
    "feature_names"
   ]
  },
  {
   "cell_type": "code",
   "execution_count": 17,
   "metadata": {
    "colab": {},
    "colab_type": "code",
    "id": "2rbMO8_wlYlJ"
   },
   "outputs": [],
   "source": [
    "feature_names_list += feature_names\n",
    "X_list.append(X) "
   ]
  },
  {
   "cell_type": "markdown",
   "metadata": {
    "colab_type": "text",
    "id": "TfhqiMuloE1e"
   },
   "source": [
    "## 連續變數"
   ]
  },
  {
   "cell_type": "code",
   "execution_count": 18,
   "metadata": {
    "colab": {},
    "colab_type": "code",
    "id": "oHL4eXX-oaX3"
   },
   "outputs": [],
   "source": [
    "cnames = [ '樓層', '出售面積(坪)', '持分土地面積(坪)', '標售單價(元/m2)', ]"
   ]
  },
  {
   "cell_type": "code",
   "execution_count": 19,
   "metadata": {
    "colab": {},
    "colab_type": "code",
    "id": "-Yz8nATPoBQf"
   },
   "outputs": [],
   "source": [
    "from sklearn.preprocessing import StandardScaler"
   ]
  },
  {
   "cell_type": "code",
   "execution_count": 20,
   "metadata": {
    "colab": {},
    "colab_type": "code",
    "id": "gpsuzU6MoJUN"
   },
   "outputs": [],
   "source": [
    "ss = StandardScaler()"
   ]
  },
  {
   "cell_type": "code",
   "execution_count": 21,
   "metadata": {
    "colab": {},
    "colab_type": "code",
    "id": "wdrx4DGToLw-"
   },
   "outputs": [],
   "source": [
    "X = ss.fit_transform(df[cnames])"
   ]
  },
  {
   "cell_type": "code",
   "execution_count": 22,
   "metadata": {
    "colab": {},
    "colab_type": "code",
    "id": "W_gS67i5ofDa"
   },
   "outputs": [],
   "source": [
    "feature_names_list += cnames\n",
    "X_list.append(X) "
   ]
  },
  {
   "cell_type": "markdown",
   "metadata": {
    "colab_type": "text",
    "id": "zSNs4ZEQqAzg"
   },
   "source": [
    "## 離散變數與連續變數 總和"
   ]
  },
  {
   "cell_type": "code",
   "execution_count": 23,
   "metadata": {
    "colab": {},
    "colab_type": "code",
    "id": "glkOrj3lpxjs"
   },
   "outputs": [],
   "source": [
    "X = np.concatenate(X_list, 1)"
   ]
  },
  {
   "cell_type": "code",
   "execution_count": 24,
   "metadata": {
    "colab": {},
    "colab_type": "code",
    "id": "hZYmyzqHqVf-"
   },
   "outputs": [],
   "source": [
    "feature_names = feature_names_list"
   ]
  },
  {
   "cell_type": "code",
   "execution_count": 25,
   "metadata": {
    "colab": {
     "base_uri": "https://localhost:8080/",
     "height": 35
    },
    "colab_type": "code",
    "id": "-AS9SKGkp38C",
    "outputId": "330307b9-b30e-49b1-a924-27674b4efa3a"
   },
   "outputs": [
    {
     "data": {
      "text/plain": [
       "((42, 12), 12)"
      ]
     },
     "execution_count": 25,
     "metadata": {},
     "output_type": "execute_result"
    }
   ],
   "source": [
    "X.shape, len(feature_names)"
   ]
  },
  {
   "cell_type": "markdown",
   "metadata": {
    "colab_type": "text",
    "id": "6k9D9tY7BYXO"
   },
   "source": [
    "# 第一步：預測投標數"
   ]
  },
  {
   "cell_type": "code",
   "execution_count": 26,
   "metadata": {
    "colab": {},
    "colab_type": "code",
    "id": "U25hCRW1Ba0c"
   },
   "outputs": [],
   "source": [
    "X_train, y_train = X[no_2019], y_inter\n",
    "X_test = X[no_2020]"
   ]
  },
  {
   "cell_type": "code",
   "execution_count": 27,
   "metadata": {
    "colab": {},
    "colab_type": "code",
    "id": "WaIoOs0aBa4Q"
   },
   "outputs": [
    {
     "name": "stdout",
     "output_type": "stream",
     "text": [
      "0.8302569322255884\n"
     ]
    },
    {
     "name": "stderr",
     "output_type": "stream",
     "text": [
      "/opt/conda/lib/python3.7/site-packages/sklearn/ensemble/forest.py:245: FutureWarning: The default value of n_estimators will change from 10 in version 0.20 to 100 in 0.22.\n",
      "  \"10 in version 0.20 to 100 in 0.22.\", FutureWarning)\n"
     ]
    }
   ],
   "source": [
    "from sklearn.ensemble import RandomForestRegressor\n",
    "submodel = RandomForestRegressor()\n",
    "submodel.fit(X_train,y_train)\n",
    "print(submodel.score(X_train,y_train))"
   ]
  },
  {
   "cell_type": "code",
   "execution_count": 28,
   "metadata": {},
   "outputs": [],
   "source": [
    "y_test_pred = submodel.predict(X_test)"
   ]
  },
  {
   "cell_type": "code",
   "execution_count": 29,
   "metadata": {
    "colab": {
     "base_uri": "https://localhost:8080/",
     "height": 53
    },
    "colab_type": "code",
    "id": "W1QJja3sCpv5",
    "outputId": "a813d4cd-1de2-4ab3-f0ad-57a845e3ba93"
   },
   "outputs": [
    {
     "data": {
      "text/plain": [
       "array([ 7.,  9.,  7.,  8.,  5.,  7.,  5.,  7.,  5.,  7.,  2.,  9., 13.,\n",
       "        9., 10.,  7.,  9.,  7.,  9.,  7.,  9.,  7.,  9.,  7.,  8.])"
      ]
     },
     "execution_count": 29,
     "metadata": {},
     "output_type": "execute_result"
    }
   ],
   "source": [
    "n_bit_pred = np.round(y_test_pred)\n",
    "n_bit_pred"
   ]
  },
  {
   "cell_type": "code",
   "execution_count": 30,
   "metadata": {
    "colab": {
     "base_uri": "https://localhost:8080/",
     "height": 35
    },
    "colab_type": "code",
    "id": "DvRHOjTeFqqK",
    "outputId": "607fc19a-49bb-4dad-d1c0-d6f58c7e2c89"
   },
   "outputs": [
    {
     "data": {
      "text/plain": [
       "7.56"
      ]
     },
     "execution_count": 30,
     "metadata": {},
     "output_type": "execute_result"
    }
   ],
   "source": [
    "np.mean(n_bit_pred)"
   ]
  },
  {
   "cell_type": "code",
   "execution_count": 31,
   "metadata": {
    "colab": {},
    "colab_type": "code",
    "id": "hYfZ0iswDPub"
   },
   "outputs": [],
   "source": [
    "n_bit = np.concatenate((y_inter,n_bit_pred)).reshape((-1,1))"
   ]
  },
  {
   "cell_type": "code",
   "execution_count": 32,
   "metadata": {
    "colab": {},
    "colab_type": "code",
    "id": "NkKLxkoHNv1c"
   },
   "outputs": [],
   "source": [
    "ss = StandardScaler()"
   ]
  },
  {
   "cell_type": "code",
   "execution_count": 33,
   "metadata": {
    "colab": {
     "base_uri": "https://localhost:8080/",
     "height": 35
    },
    "colab_type": "code",
    "id": "wEuGWsmOGfts",
    "outputId": "43899373-d575-4440-b990-c10a188b8153"
   },
   "outputs": [
    {
     "data": {
      "text/plain": [
       "(42, 1)"
      ]
     },
     "execution_count": 33,
     "metadata": {},
     "output_type": "execute_result"
    }
   ],
   "source": [
    "n_bit_norm = ss.fit_transform(n_bit)\n",
    "n_bit_norm.shape"
   ]
  },
  {
   "cell_type": "code",
   "execution_count": 34,
   "metadata": {
    "colab": {
     "base_uri": "https://localhost:8080/",
     "height": 35
    },
    "colab_type": "code",
    "id": "hrE5SZczQm-Y",
    "outputId": "a29b8002-ad0c-45ab-9653-fee747464e2b"
   },
   "outputs": [
    {
     "data": {
      "text/plain": [
       "(42, 13)"
      ]
     },
     "execution_count": 34,
     "metadata": {},
     "output_type": "execute_result"
    }
   ],
   "source": [
    "X = np.concatenate((X,n_bit_norm), 1)\n",
    "X.shape"
   ]
  },
  {
   "cell_type": "markdown",
   "metadata": {
    "colab_type": "text",
    "id": "m7iICo1_qa13"
   },
   "source": [
    "# 第二步：預測得標價"
   ]
  },
  {
   "cell_type": "markdown",
   "metadata": {},
   "source": [
    "## 訓練"
   ]
  },
  {
   "cell_type": "code",
   "execution_count": 35,
   "metadata": {
    "colab": {},
    "colab_type": "code",
    "id": "0JRDNaT-5ZgS"
   },
   "outputs": [],
   "source": [
    "X_train, y_train = X[no_2019], y\n",
    "X_test = X[no_2020]"
   ]
  },
  {
   "cell_type": "code",
   "execution_count": 36,
   "metadata": {
    "colab": {},
    "colab_type": "code",
    "id": "f1H0joziqQz8"
   },
   "outputs": [],
   "source": [
    "from sklearn.svm import SVR\n",
    "from sklearn.ensemble import RandomForestRegressor, ExtraTreesRegressor"
   ]
  },
  {
   "cell_type": "code",
   "execution_count": 37,
   "metadata": {
    "colab": {},
    "colab_type": "code",
    "id": "NHHBs_nuHydK"
   },
   "outputs": [],
   "source": [
    "def trian(model, print_name=\"\"):\n",
    "    model = model()\n",
    "    model.fit(X_train,y_train)\n",
    "    y_train_pred = model.predict(X_train)\n",
    "    err_mean = np.mean((y_train_pred - y_train)**2)\n",
    "    err_std = np.std((y_train_pred - y_train)**2)\n",
    "    print(\"[{}] R-sq:{:4f}, 誤差:0% ~ {:.2f}%\".format( print_name, model.score(X_train,y_train) , (err_mean+err_std*3)*100 ))\n",
    "    return model\n",
    "\n",
    "def get_y_test_pred(model, X_test, print_name=\"\", train=False):\n",
    "    if train:\n",
    "        model = trian(model, print_name=print_name)\n",
    "    y_test_pred = model.predict(X_test)\n",
    "    return y_test_pred, model"
   ]
  },
  {
   "cell_type": "markdown",
   "metadata": {},
   "source": [
    "嘗試各個模型"
   ]
  },
  {
   "cell_type": "code",
   "execution_count": 38,
   "metadata": {
    "colab": {
     "base_uri": "https://localhost:8080/",
     "height": 179
    },
    "colab_type": "code",
    "id": "Kh7d99mt6Az6",
    "outputId": "106ffd9c-5c9d-4d71-fea5-679205887da0"
   },
   "outputs": [
    {
     "name": "stdout",
     "output_type": "stream",
     "text": [
      "[SVR] R-sq:0.387439, 誤差:0% ~ 1.72%\n",
      "[RandomForestRegressor] R-sq:0.921059, 誤差:0% ~ 0.47%\n",
      "[ExtraTreesRegressor] R-sq:1.000000, 誤差:0% ~ 0.00%\n"
     ]
    },
    {
     "name": "stderr",
     "output_type": "stream",
     "text": [
      "/opt/conda/lib/python3.7/site-packages/sklearn/svm/base.py:193: FutureWarning: The default value of gamma will change from 'auto' to 'scale' in version 0.22 to account better for unscaled features. Set gamma explicitly to 'auto' or 'scale' to avoid this warning.\n",
      "  \"avoid this warning.\", FutureWarning)\n",
      "/opt/conda/lib/python3.7/site-packages/sklearn/ensemble/forest.py:245: FutureWarning: The default value of n_estimators will change from 10 in version 0.20 to 100 in 0.22.\n",
      "  \"10 in version 0.20 to 100 in 0.22.\", FutureWarning)\n",
      "/opt/conda/lib/python3.7/site-packages/sklearn/ensemble/forest.py:245: FutureWarning: The default value of n_estimators will change from 10 in version 0.20 to 100 in 0.22.\n",
      "  \"10 in version 0.20 to 100 in 0.22.\", FutureWarning)\n"
     ]
    }
   ],
   "source": [
    "models = [SVR, RandomForestRegressor, ExtraTreesRegressor]\n",
    "print_names = [\"SVR\", \"RandomForestRegressor\", \"ExtraTreesRegressor\"]\n",
    "y_test_pred_list = []\n",
    "trained_models = []\n",
    "for model,name in zip(models,print_names):\n",
    "    y_test_pred, trained_model = get_y_test_pred(model, X_test, print_name=name, train=True)\n",
    "    y_test_pred_list.append(y_test_pred)\n",
    "    trained_models.append(trained_model)\n"
   ]
  },
  {
   "cell_type": "markdown",
   "metadata": {},
   "source": [
    "嘗試印出溢價率"
   ]
  },
  {
   "cell_type": "code",
   "execution_count": 39,
   "metadata": {
    "colab": {
     "base_uri": "https://localhost:8080/",
     "height": 107
    },
    "colab_type": "code",
    "id": "XpkVOgUJI3ni",
    "outputId": "4013be8b-d8ee-4eb4-fa5e-fb2226958b34"
   },
   "outputs": [
    {
     "data": {
      "text/plain": [
       "array([1.12776632, 1.1481111 , 1.13136142, 1.14398394, 1.13157441,\n",
       "       1.1463522 , 1.13157441, 1.1463522 , 1.13589083, 1.14839094,\n",
       "       1.14723756, 1.1426201 , 1.17022188, 1.144266  , 1.15779079,\n",
       "       1.14198673, 1.15892225, 1.14198673, 1.15892225, 1.14458194,\n",
       "       1.15960841, 1.14458194, 1.15960841, 1.20604966, 1.20835537])"
      ]
     },
     "execution_count": 39,
     "metadata": {},
     "output_type": "execute_result"
    }
   ],
   "source": [
    "y_test_pred_list[0]"
   ]
  },
  {
   "cell_type": "markdown",
   "metadata": {},
   "source": [
    "## 投標人數是預測的，若想知道每一個投標人數下的結果"
   ]
  },
  {
   "cell_type": "code",
   "execution_count": 40,
   "metadata": {
    "colab": {
     "base_uri": "https://localhost:8080/",
     "height": 35
    },
    "colab_type": "code",
    "id": "jCqKPX2IQ7Ef",
    "outputId": "bbe83173-c9c3-4290-a35f-6dc5a213ef4e"
   },
   "outputs": [
    {
     "data": {
      "text/plain": [
       "(25, 13)"
      ]
     },
     "execution_count": 40,
     "metadata": {},
     "output_type": "execute_result"
    }
   ],
   "source": [
    "X_test.shape"
   ]
  },
  {
   "cell_type": "code",
   "execution_count": 41,
   "metadata": {
    "colab": {
     "base_uri": "https://localhost:8080/",
     "height": 35
    },
    "colab_type": "code",
    "id": "nkE_tGpDRAJ3",
    "outputId": "581407e6-d689-4333-ac49-3c24b80a57d6"
   },
   "outputs": [
    {
     "data": {
      "text/plain": [
       "(25, 12)"
      ]
     },
     "execution_count": 41,
     "metadata": {},
     "output_type": "execute_result"
    }
   ],
   "source": [
    "X_test_ = X_test[:, :-1] # 移除原本預測的得標數\n",
    "X_test_.shape"
   ]
  },
  {
   "cell_type": "code",
   "execution_count": 42,
   "metadata": {
    "colab": {
     "base_uri": "https://localhost:8080/",
     "height": 35
    },
    "colab_type": "code",
    "id": "-vQ3M0-oRVRZ",
    "outputId": "c4617ce0-24f9-4c3a-8598-4ff4f49353dd"
   },
   "outputs": [
    {
     "data": {
      "text/plain": [
       "20"
      ]
     },
     "execution_count": 42,
     "metadata": {},
     "output_type": "execute_result"
    }
   ],
   "source": [
    "n_bit_assumed = np.array(list(range(1,21))).reshape((-1,1)) # 投標人數假定為 1~20\n",
    "n_bit_assumed_norm = ss.transform(n_bit_assumed)\n",
    "len(n_bit_assumed)"
   ]
  },
  {
   "cell_type": "code",
   "execution_count": 43,
   "metadata": {
    "colab": {
     "base_uri": "https://localhost:8080/",
     "height": 35
    },
    "colab_type": "code",
    "id": "RgMENBk4YVFQ",
    "outputId": "2026a0e1-b250-46cb-f432-b87c7db43368"
   },
   "outputs": [
    {
     "data": {
      "text/plain": [
       "(500, 13)"
      ]
     },
     "execution_count": 43,
     "metadata": {},
     "output_type": "execute_result"
    }
   ],
   "source": [
    "X_list = []\n",
    "is_default_n_bit = []\n",
    "nbs = []\n",
    "for nbn, nb in zip(n_bit_assumed_norm, n_bit_assumed.flatten()):# 每一個 投標人數 設定\n",
    "    for x, nb_ in zip(X_test_, n_bit_pred): # 每一筆資料\n",
    "        X_list.append( np.concatenate( [x,nbn]).reshape((1,-1)) )\n",
    "        is_default_n_bit += [ nb == nb_ ]\n",
    "        nbs.append(nb)\n",
    "X_test_rep = np.concatenate(X_list, 0)\n",
    "X_test_rep.shape"
   ]
  },
  {
   "cell_type": "code",
   "execution_count": 44,
   "metadata": {
    "colab": {
     "base_uri": "https://localhost:8080/",
     "height": 35
    },
    "colab_type": "code",
    "id": "buZElgU7cviz",
    "outputId": "8d912988-b48e-48d3-de91-67678d004315"
   },
   "outputs": [
    {
     "data": {
      "text/plain": [
       "25"
      ]
     },
     "execution_count": 44,
     "metadata": {},
     "output_type": "execute_result"
    }
   ],
   "source": [
    "is_default_n_bit = np.array(is_default_n_bit)\n",
    "is_default_n_bit.sum()"
   ]
  },
  {
   "cell_type": "code",
   "execution_count": 45,
   "metadata": {
    "colab": {
     "base_uri": "https://localhost:8080/",
     "height": 179
    },
    "colab_type": "code",
    "id": "pHMHOyGPUBv3",
    "outputId": "c21c8f8f-2f37-465a-f8a9-adbffdb172de"
   },
   "outputs": [],
   "source": [
    "models = [SVR, RandomForestRegressor, ExtraTreesRegressor]\n",
    "print_names = [\"SVR\", \"RandomForestRegressor\", \"ExtraTreesRegressor\"]\n",
    "y_test_pred_list = []\n",
    "for trained_model,name in zip(trained_models,print_names):\n",
    "    y_test_pred, _ = get_y_test_pred(trained_model, X_test_rep, print_name=name)\n",
    "    y_test_pred_list.append( y_test_pred )\n"
   ]
  },
  {
   "cell_type": "markdown",
   "metadata": {},
   "source": [
    "嘗試印出溢價率"
   ]
  },
  {
   "cell_type": "code",
   "execution_count": 46,
   "metadata": {
    "colab": {
     "base_uri": "https://localhost:8080/",
     "height": 35
    },
    "colab_type": "code",
    "id": "WxWYEFgKUiOk",
    "outputId": "3d8a9c84-006e-4934-8791-601e4d27d61b"
   },
   "outputs": [
    {
     "data": {
      "text/plain": [
       "(500,)"
      ]
     },
     "execution_count": 46,
     "metadata": {},
     "output_type": "execute_result"
    }
   ],
   "source": [
    "y_test_pred_list[0].shape"
   ]
  },
  {
   "cell_type": "markdown",
   "metadata": {
    "colab_type": "text",
    "id": "n0e7KKnR_5Yy"
   },
   "source": [
    "# 匯出"
   ]
  },
  {
   "cell_type": "code",
   "execution_count": 47,
   "metadata": {
    "colab": {},
    "colab_type": "code",
    "id": "trwxmJwVJC5Z"
   },
   "outputs": [],
   "source": [
    "del df_op[\"投標數\"]\n",
    "del df_op[\"得標總價(元)/標售總價(元)\"]\n",
    "df_op = df_op.iloc[no_2020,:]"
   ]
  },
  {
   "cell_type": "code",
   "execution_count": 48,
   "metadata": {
    "colab": {
     "base_uri": "https://localhost:8080/",
     "height": 53
    },
    "colab_type": "code",
    "id": "8p_1P_csVA1y",
    "outputId": "bf1e0065-a1f9-4fda-c40e-d31b73e410c9"
   },
   "outputs": [
    {
     "name": "stdout",
     "output_type": "stream",
     "text": [
      "(25, 8)\n",
      "(500, 8)\n"
     ]
    }
   ],
   "source": [
    "print(df_op.shape)\n",
    "df_op = pd.concat([df_op]*len(n_bit_assumed_norm), ignore_index=True)\n",
    "print(df_op.shape)"
   ]
  },
  {
   "cell_type": "code",
   "execution_count": 49,
   "metadata": {
    "colab": {},
    "colab_type": "code",
    "id": "iHy08pCV7FfS"
   },
   "outputs": [],
   "source": [
    "for i,model_name in enumerate(print_names):\n",
    "    if i == 0 : df_op[\"投標數(假設為)\"] = nbs\n",
    "    df_op[model_name+\"_\"\"得標總價/標售總價(預測)\"] = y_test_pred_list[i]\n",
    "    df_op[model_name+\"_\"\"得標總價(預測)\"] = df_op[\"標售總價(元)\"]*y_test_pred_list[i]"
   ]
  },
  {
   "cell_type": "code",
   "execution_count": 50,
   "metadata": {
    "colab": {
     "base_uri": "https://localhost:8080/",
     "height": 313
    },
    "colab_type": "code",
    "id": "Vdcmipo9JnXe",
    "outputId": "0d966860-16f8-4cee-a70a-0efeae918fc4"
   },
   "outputs": [
    {
     "data": {
      "text/html": [
       "<div>\n",
       "<style scoped>\n",
       "    .dataframe tbody tr th:only-of-type {\n",
       "        vertical-align: middle;\n",
       "    }\n",
       "\n",
       "    .dataframe tbody tr th {\n",
       "        vertical-align: top;\n",
       "    }\n",
       "\n",
       "    .dataframe thead th {\n",
       "        text-align: right;\n",
       "    }\n",
       "</style>\n",
       "<table border=\"1\" class=\"dataframe\">\n",
       "  <thead>\n",
       "    <tr style=\"text-align: right;\">\n",
       "      <th></th>\n",
       "      <th>次</th>\n",
       "      <th>樓層</th>\n",
       "      <th>棟</th>\n",
       "      <th>號</th>\n",
       "      <th>出售面積(坪)</th>\n",
       "      <th>持分土地面積(坪)</th>\n",
       "      <th>標售單價(元/m2)</th>\n",
       "      <th>標售總價(元)</th>\n",
       "      <th>投標數(假設為)</th>\n",
       "      <th>SVR_得標總價/標售總價(預測)</th>\n",
       "      <th>SVR_得標總價(預測)</th>\n",
       "      <th>RandomForestRegressor_得標總價/標售總價(預測)</th>\n",
       "      <th>RandomForestRegressor_得標總價(預測)</th>\n",
       "      <th>ExtraTreesRegressor_得標總價/標售總價(預測)</th>\n",
       "      <th>ExtraTreesRegressor_得標總價(預測)</th>\n",
       "    </tr>\n",
       "  </thead>\n",
       "  <tbody>\n",
       "    <tr>\n",
       "      <th>0</th>\n",
       "      <td>2020</td>\n",
       "      <td>8</td>\n",
       "      <td>C</td>\n",
       "      <td>_1</td>\n",
       "      <td>29.79</td>\n",
       "      <td>5.31</td>\n",
       "      <td>69723</td>\n",
       "      <td>6865651</td>\n",
       "      <td>1</td>\n",
       "      <td>1.110136</td>\n",
       "      <td>7.621804e+06</td>\n",
       "      <td>1.05124</td>\n",
       "      <td>7.217447e+06</td>\n",
       "      <td>1.07102</td>\n",
       "      <td>7.353250e+06</td>\n",
       "    </tr>\n",
       "    <tr>\n",
       "      <th>1</th>\n",
       "      <td>2020</td>\n",
       "      <td>8</td>\n",
       "      <td>C</td>\n",
       "      <td>_2</td>\n",
       "      <td>32.10</td>\n",
       "      <td>5.77</td>\n",
       "      <td>67803</td>\n",
       "      <td>7195300</td>\n",
       "      <td>1</td>\n",
       "      <td>1.115738</td>\n",
       "      <td>8.028072e+06</td>\n",
       "      <td>1.14668</td>\n",
       "      <td>8.250707e+06</td>\n",
       "      <td>1.09850</td>\n",
       "      <td>7.904037e+06</td>\n",
       "    </tr>\n",
       "    <tr>\n",
       "      <th>2</th>\n",
       "      <td>2020</td>\n",
       "      <td>9</td>\n",
       "      <td>C</td>\n",
       "      <td>_1</td>\n",
       "      <td>29.79</td>\n",
       "      <td>5.31</td>\n",
       "      <td>70873</td>\n",
       "      <td>6978853</td>\n",
       "      <td>1</td>\n",
       "      <td>1.116375</td>\n",
       "      <td>7.791019e+06</td>\n",
       "      <td>1.05124</td>\n",
       "      <td>7.336449e+06</td>\n",
       "      <td>1.07102</td>\n",
       "      <td>7.474491e+06</td>\n",
       "    </tr>\n",
       "    <tr>\n",
       "      <th>3</th>\n",
       "      <td>2020</td>\n",
       "      <td>9</td>\n",
       "      <td>C</td>\n",
       "      <td>_2</td>\n",
       "      <td>32.10</td>\n",
       "      <td>5.77</td>\n",
       "      <td>68983</td>\n",
       "      <td>7320490</td>\n",
       "      <td>1</td>\n",
       "      <td>1.119242</td>\n",
       "      <td>8.193398e+06</td>\n",
       "      <td>1.13915</td>\n",
       "      <td>8.339136e+06</td>\n",
       "      <td>1.09387</td>\n",
       "      <td>8.007665e+06</td>\n",
       "    </tr>\n",
       "    <tr>\n",
       "      <th>4</th>\n",
       "      <td>2020</td>\n",
       "      <td>1</td>\n",
       "      <td>C</td>\n",
       "      <td>_1</td>\n",
       "      <td>29.79</td>\n",
       "      <td>5.31</td>\n",
       "      <td>72053</td>\n",
       "      <td>7095034</td>\n",
       "      <td>1</td>\n",
       "      <td>1.123937</td>\n",
       "      <td>7.974372e+06</td>\n",
       "      <td>1.05607</td>\n",
       "      <td>7.492852e+06</td>\n",
       "      <td>1.03478</td>\n",
       "      <td>7.341799e+06</td>\n",
       "    </tr>\n",
       "  </tbody>\n",
       "</table>\n",
       "</div>"
      ],
      "text/plain": [
       "      次  樓層  棟   號  出售面積(坪)  持分土地面積(坪)  標售單價(元/m2)  標售總價(元)  投標數(假設為)  \\\n",
       "0  2020   8  C  _1    29.79       5.31       69723  6865651         1   \n",
       "1  2020   8  C  _2    32.10       5.77       67803  7195300         1   \n",
       "2  2020   9  C  _1    29.79       5.31       70873  6978853         1   \n",
       "3  2020   9  C  _2    32.10       5.77       68983  7320490         1   \n",
       "4  2020   1  C  _1    29.79       5.31       72053  7095034         1   \n",
       "\n",
       "   SVR_得標總價/標售總價(預測)  SVR_得標總價(預測)  RandomForestRegressor_得標總價/標售總價(預測)  \\\n",
       "0           1.110136  7.621804e+06                              1.05124   \n",
       "1           1.115738  8.028072e+06                              1.14668   \n",
       "2           1.116375  7.791019e+06                              1.05124   \n",
       "3           1.119242  8.193398e+06                              1.13915   \n",
       "4           1.123937  7.974372e+06                              1.05607   \n",
       "\n",
       "   RandomForestRegressor_得標總價(預測)  ExtraTreesRegressor_得標總價/標售總價(預測)  \\\n",
       "0                    7.217447e+06                            1.07102   \n",
       "1                    8.250707e+06                            1.09850   \n",
       "2                    7.336449e+06                            1.07102   \n",
       "3                    8.339136e+06                            1.09387   \n",
       "4                    7.492852e+06                            1.03478   \n",
       "\n",
       "   ExtraTreesRegressor_得標總價(預測)  \n",
       "0                  7.353250e+06  \n",
       "1                  7.904037e+06  \n",
       "2                  7.474491e+06  \n",
       "3                  8.007665e+06  \n",
       "4                  7.341799e+06  "
      ]
     },
     "execution_count": 50,
     "metadata": {},
     "output_type": "execute_result"
    }
   ],
   "source": [
    "df_op.head()"
   ]
  },
  {
   "cell_type": "code",
   "execution_count": 51,
   "metadata": {
    "colab": {},
    "colab_type": "code",
    "id": "J5AGUeUG80o1"
   },
   "outputs": [],
   "source": [
    "df_op.to_csv(\"realcasehousebitprediction/house_pred_2_.csv\", encoding=\"big5\")"
   ]
  },
  {
   "cell_type": "markdown",
   "metadata": {
    "colab_type": "text",
    "id": "Nh3e5zAC_7sc"
   },
   "source": [
    "# 分析 - 影響因子"
   ]
  },
  {
   "cell_type": "code",
   "execution_count": 52,
   "metadata": {
    "colab": {},
    "colab_type": "code",
    "id": "hRMZFyY0-MND"
   },
   "outputs": [],
   "source": [
    "from sklearn.svm import SVR\n",
    "lr_ = SVR(kernel=\"linear\")\n",
    "lr_.fit(X_train,y_train)\n",
    "coef = lr_.coef_[0]"
   ]
  },
  {
   "cell_type": "code",
   "execution_count": 53,
   "metadata": {
    "colab": {
     "base_uri": "https://localhost:8080/",
     "height": 70
    },
    "colab_type": "code",
    "id": "7_A2OuxYMNrl",
    "outputId": "73fa2eaa-4469-449a-e128-28df7c041cf7"
   },
   "outputs": [
    {
     "data": {
      "text/plain": [
       "array([ 0.01830565, -0.01449738,  0.00190154, -0.00570981,  0.00496255,\n",
       "        0.00953483, -0.01449738,  0.        , -0.01248494,  0.01093151,\n",
       "        0.0112517 ,  0.01550698,  0.03106062])"
      ]
     },
     "execution_count": 53,
     "metadata": {},
     "output_type": "execute_result"
    }
   ],
   "source": [
    "coef"
   ]
  },
  {
   "cell_type": "code",
   "execution_count": 54,
   "metadata": {
    "colab": {},
    "colab_type": "code",
    "id": "5KwpMot8FHs4"
   },
   "outputs": [],
   "source": [
    "feature_names += [\"投標數(假設為)\"]"
   ]
  },
  {
   "cell_type": "code",
   "execution_count": 55,
   "metadata": {
    "colab": {},
    "colab_type": "code",
    "id": "uU36UGICE54Q"
   },
   "outputs": [],
   "source": [
    "feature_names = np.array(feature_names)"
   ]
  },
  {
   "cell_type": "code",
   "execution_count": 56,
   "metadata": {
    "colab": {},
    "colab_type": "code",
    "id": "sSaf40BLLkin"
   },
   "outputs": [],
   "source": [
    "coef_sort = np.sort(coef)"
   ]
  },
  {
   "cell_type": "code",
   "execution_count": 57,
   "metadata": {
    "colab": {
     "base_uri": "https://localhost:8080/",
     "height": 245
    },
    "colab_type": "code",
    "id": "8TrIELtFAUaQ",
    "outputId": "4c3f8048-c1f3-4571-a12e-ee3d73ab3ebf"
   },
   "outputs": [
    {
     "data": {
      "text/plain": [
       "['棟_B',\n",
       " '號_3',\n",
       " '樓層',\n",
       " '棟_D',\n",
       " '號_5',\n",
       " '棟_C',\n",
       " '號_1',\n",
       " '號_2',\n",
       " '出售面積(坪)',\n",
       " '持分土地面積(坪)',\n",
       " '標售單價(元/m2)',\n",
       " '棟_A',\n",
       " '投標數(假設為)']"
      ]
     },
     "execution_count": 57,
     "metadata": {},
     "output_type": "execute_result"
    }
   ],
   "source": [
    "rank = list(feature_names[ np.argsort(coef)])\n",
    "rank"
   ]
  },
  {
   "cell_type": "code",
   "execution_count": 58,
   "metadata": {
    "colab": {
     "base_uri": "https://localhost:8080/",
     "height": 245
    },
    "colab_type": "code",
    "id": "35x0GLoxKsHb",
    "outputId": "cbd27ce3-71d7-486c-93dd-27748259ef6e"
   },
   "outputs": [
    {
     "data": {
      "text/plain": [
       "{13: ('棟_B', -0.0145),\n",
       " 12: ('號_3', -0.0145),\n",
       " 11: ('樓層', -0.0125),\n",
       " 10: ('棟_D', -0.0057),\n",
       " 9: ('號_5', 0.0),\n",
       " 8: ('棟_C', 0.0019),\n",
       " 7: ('號_1', 0.005),\n",
       " 6: ('號_2', 0.0095),\n",
       " 5: ('出售面積(坪)', 0.0109),\n",
       " 4: ('持分土地面積(坪)', 0.0113),\n",
       " 3: ('標售單價(元/m2)', 0.0155),\n",
       " 2: ('棟_A', 0.0183),\n",
       " 1: ('投標數(假設為)', 0.0311)}"
      ]
     },
     "execution_count": 58,
     "metadata": {},
     "output_type": "execute_result"
    }
   ],
   "source": [
    "dict(zip(range(len(rank),0,-1), [(r,round(c,4)) for r,c in zip(rank, coef_sort)]  ))"
   ]
  },
  {
   "cell_type": "markdown",
   "metadata": {
    "colab_type": "text",
    "id": "Nh3e5zAC_7sc"
   },
   "source": [
    "# 投標數的影響"
   ]
  },
  {
   "cell_type": "code",
   "execution_count": 59,
   "metadata": {},
   "outputs": [],
   "source": [
    "df_8C1 = df_op[(df_op[\"樓層\"]==8)&(df_op[\"棟\"]==\"C\")&(df_op[\"號\"]==\"_1\")]"
   ]
  },
  {
   "cell_type": "code",
   "execution_count": 60,
   "metadata": {},
   "outputs": [
    {
     "data": {
      "text/html": [
       "<div>\n",
       "<style scoped>\n",
       "    .dataframe tbody tr th:only-of-type {\n",
       "        vertical-align: middle;\n",
       "    }\n",
       "\n",
       "    .dataframe tbody tr th {\n",
       "        vertical-align: top;\n",
       "    }\n",
       "\n",
       "    .dataframe thead th {\n",
       "        text-align: right;\n",
       "    }\n",
       "</style>\n",
       "<table border=\"1\" class=\"dataframe\">\n",
       "  <thead>\n",
       "    <tr style=\"text-align: right;\">\n",
       "      <th></th>\n",
       "      <th>次</th>\n",
       "      <th>樓層</th>\n",
       "      <th>棟</th>\n",
       "      <th>號</th>\n",
       "      <th>出售面積(坪)</th>\n",
       "      <th>持分土地面積(坪)</th>\n",
       "      <th>標售單價(元/m2)</th>\n",
       "      <th>標售總價(元)</th>\n",
       "      <th>投標數(假設為)</th>\n",
       "      <th>SVR_得標總價/標售總價(預測)</th>\n",
       "      <th>SVR_得標總價(預測)</th>\n",
       "      <th>RandomForestRegressor_得標總價/標售總價(預測)</th>\n",
       "      <th>RandomForestRegressor_得標總價(預測)</th>\n",
       "      <th>ExtraTreesRegressor_得標總價/標售總價(預測)</th>\n",
       "      <th>ExtraTreesRegressor_得標總價(預測)</th>\n",
       "    </tr>\n",
       "  </thead>\n",
       "  <tbody>\n",
       "    <tr>\n",
       "      <th>0</th>\n",
       "      <td>2020</td>\n",
       "      <td>8</td>\n",
       "      <td>C</td>\n",
       "      <td>_1</td>\n",
       "      <td>29.79</td>\n",
       "      <td>5.31</td>\n",
       "      <td>69723</td>\n",
       "      <td>6865651</td>\n",
       "      <td>1</td>\n",
       "      <td>1.110136</td>\n",
       "      <td>7.621804e+06</td>\n",
       "      <td>1.05124</td>\n",
       "      <td>7.217447e+06</td>\n",
       "      <td>1.07102</td>\n",
       "      <td>7.353250e+06</td>\n",
       "    </tr>\n",
       "    <tr>\n",
       "      <th>25</th>\n",
       "      <td>2020</td>\n",
       "      <td>8</td>\n",
       "      <td>C</td>\n",
       "      <td>_1</td>\n",
       "      <td>29.79</td>\n",
       "      <td>5.31</td>\n",
       "      <td>69723</td>\n",
       "      <td>6865651</td>\n",
       "      <td>2</td>\n",
       "      <td>1.110811</td>\n",
       "      <td>7.626438e+06</td>\n",
       "      <td>1.05124</td>\n",
       "      <td>7.217447e+06</td>\n",
       "      <td>1.07102</td>\n",
       "      <td>7.353250e+06</td>\n",
       "    </tr>\n",
       "    <tr>\n",
       "      <th>50</th>\n",
       "      <td>2020</td>\n",
       "      <td>8</td>\n",
       "      <td>C</td>\n",
       "      <td>_1</td>\n",
       "      <td>29.79</td>\n",
       "      <td>5.31</td>\n",
       "      <td>69723</td>\n",
       "      <td>6865651</td>\n",
       "      <td>3</td>\n",
       "      <td>1.112493</td>\n",
       "      <td>7.637986e+06</td>\n",
       "      <td>1.05041</td>\n",
       "      <td>7.211749e+06</td>\n",
       "      <td>1.07102</td>\n",
       "      <td>7.353250e+06</td>\n",
       "    </tr>\n",
       "    <tr>\n",
       "      <th>75</th>\n",
       "      <td>2020</td>\n",
       "      <td>8</td>\n",
       "      <td>C</td>\n",
       "      <td>_1</td>\n",
       "      <td>29.79</td>\n",
       "      <td>5.31</td>\n",
       "      <td>69723</td>\n",
       "      <td>6865651</td>\n",
       "      <td>4</td>\n",
       "      <td>1.115143</td>\n",
       "      <td>7.656183e+06</td>\n",
       "      <td>1.06008</td>\n",
       "      <td>7.278140e+06</td>\n",
       "      <td>1.08279</td>\n",
       "      <td>7.434058e+06</td>\n",
       "    </tr>\n",
       "    <tr>\n",
       "      <th>100</th>\n",
       "      <td>2020</td>\n",
       "      <td>8</td>\n",
       "      <td>C</td>\n",
       "      <td>_1</td>\n",
       "      <td>29.79</td>\n",
       "      <td>5.31</td>\n",
       "      <td>69723</td>\n",
       "      <td>6865651</td>\n",
       "      <td>5</td>\n",
       "      <td>1.118671</td>\n",
       "      <td>7.680403e+06</td>\n",
       "      <td>1.08492</td>\n",
       "      <td>7.448682e+06</td>\n",
       "      <td>1.09793</td>\n",
       "      <td>7.538004e+06</td>\n",
       "    </tr>\n",
       "  </tbody>\n",
       "</table>\n",
       "</div>"
      ],
      "text/plain": [
       "        次  樓層  棟   號  出售面積(坪)  持分土地面積(坪)  標售單價(元/m2)  標售總價(元)  投標數(假設為)  \\\n",
       "0    2020   8  C  _1    29.79       5.31       69723  6865651         1   \n",
       "25   2020   8  C  _1    29.79       5.31       69723  6865651         2   \n",
       "50   2020   8  C  _1    29.79       5.31       69723  6865651         3   \n",
       "75   2020   8  C  _1    29.79       5.31       69723  6865651         4   \n",
       "100  2020   8  C  _1    29.79       5.31       69723  6865651         5   \n",
       "\n",
       "     SVR_得標總價/標售總價(預測)  SVR_得標總價(預測)  RandomForestRegressor_得標總價/標售總價(預測)  \\\n",
       "0             1.110136  7.621804e+06                              1.05124   \n",
       "25            1.110811  7.626438e+06                              1.05124   \n",
       "50            1.112493  7.637986e+06                              1.05041   \n",
       "75            1.115143  7.656183e+06                              1.06008   \n",
       "100           1.118671  7.680403e+06                              1.08492   \n",
       "\n",
       "     RandomForestRegressor_得標總價(預測)  ExtraTreesRegressor_得標總價/標售總價(預測)  \\\n",
       "0                      7.217447e+06                            1.07102   \n",
       "25                     7.217447e+06                            1.07102   \n",
       "50                     7.211749e+06                            1.07102   \n",
       "75                     7.278140e+06                            1.08279   \n",
       "100                    7.448682e+06                            1.09793   \n",
       "\n",
       "     ExtraTreesRegressor_得標總價(預測)  \n",
       "0                    7.353250e+06  \n",
       "25                   7.353250e+06  \n",
       "50                   7.353250e+06  \n",
       "75                   7.434058e+06  \n",
       "100                  7.538004e+06  "
      ]
     },
     "execution_count": 60,
     "metadata": {},
     "output_type": "execute_result"
    }
   ],
   "source": [
    "df_8C1.head()"
   ]
  },
  {
   "cell_type": "code",
   "execution_count": 61,
   "metadata": {},
   "outputs": [
    {
     "name": "stderr",
     "output_type": "stream",
     "text": [
      "/opt/conda/lib/python3.7/site-packages/ipykernel_launcher.py:3: SettingWithCopyWarning: \n",
      "A value is trying to be set on a copy of a slice from a DataFrame.\n",
      "Try using .loc[row_indexer,col_indexer] = value instead\n",
      "\n",
      "See the caveats in the documentation: http://pandas.pydata.org/pandas-docs/stable/user_guide/indexing.html#returning-a-view-versus-a-copy\n",
      "  This is separate from the ipykernel package so we can avoid doing imports until\n"
     ]
    },
    {
     "data": {
      "text/html": [
       "<div>\n",
       "<style scoped>\n",
       "    .dataframe tbody tr th:only-of-type {\n",
       "        vertical-align: middle;\n",
       "    }\n",
       "\n",
       "    .dataframe tbody tr th {\n",
       "        vertical-align: top;\n",
       "    }\n",
       "\n",
       "    .dataframe thead th {\n",
       "        text-align: right;\n",
       "    }\n",
       "</style>\n",
       "<table border=\"1\" class=\"dataframe\">\n",
       "  <thead>\n",
       "    <tr style=\"text-align: right;\">\n",
       "      <th></th>\n",
       "      <th>投標數(假設為)</th>\n",
       "      <th>得標總價(預測)</th>\n",
       "    </tr>\n",
       "  </thead>\n",
       "  <tbody>\n",
       "    <tr>\n",
       "      <th>0</th>\n",
       "      <td>1</td>\n",
       "      <td>7.397500e+06</td>\n",
       "    </tr>\n",
       "    <tr>\n",
       "      <th>25</th>\n",
       "      <td>2</td>\n",
       "      <td>7.399045e+06</td>\n",
       "    </tr>\n",
       "    <tr>\n",
       "      <th>50</th>\n",
       "      <td>3</td>\n",
       "      <td>7.400995e+06</td>\n",
       "    </tr>\n",
       "    <tr>\n",
       "      <th>75</th>\n",
       "      <td>4</td>\n",
       "      <td>7.456127e+06</td>\n",
       "    </tr>\n",
       "    <tr>\n",
       "      <th>100</th>\n",
       "      <td>5</td>\n",
       "      <td>7.555696e+06</td>\n",
       "    </tr>\n",
       "    <tr>\n",
       "      <th>125</th>\n",
       "      <td>6</td>\n",
       "      <td>7.612902e+06</td>\n",
       "    </tr>\n",
       "    <tr>\n",
       "      <th>150</th>\n",
       "      <td>7</td>\n",
       "      <td>7.624320e+06</td>\n",
       "    </tr>\n",
       "    <tr>\n",
       "      <th>175</th>\n",
       "      <td>8</td>\n",
       "      <td>7.732640e+06</td>\n",
       "    </tr>\n",
       "    <tr>\n",
       "      <th>200</th>\n",
       "      <td>9</td>\n",
       "      <td>7.744866e+06</td>\n",
       "    </tr>\n",
       "    <tr>\n",
       "      <th>225</th>\n",
       "      <td>10</td>\n",
       "      <td>7.756961e+06</td>\n",
       "    </tr>\n",
       "    <tr>\n",
       "      <th>250</th>\n",
       "      <td>11</td>\n",
       "      <td>7.768489e+06</td>\n",
       "    </tr>\n",
       "    <tr>\n",
       "      <th>275</th>\n",
       "      <td>12</td>\n",
       "      <td>7.779075e+06</td>\n",
       "    </tr>\n",
       "    <tr>\n",
       "      <th>300</th>\n",
       "      <td>13</td>\n",
       "      <td>7.788426e+06</td>\n",
       "    </tr>\n",
       "    <tr>\n",
       "      <th>325</th>\n",
       "      <td>14</td>\n",
       "      <td>7.796339e+06</td>\n",
       "    </tr>\n",
       "    <tr>\n",
       "      <th>350</th>\n",
       "      <td>15</td>\n",
       "      <td>7.802704e+06</td>\n",
       "    </tr>\n",
       "    <tr>\n",
       "      <th>375</th>\n",
       "      <td>16</td>\n",
       "      <td>7.807498e+06</td>\n",
       "    </tr>\n",
       "    <tr>\n",
       "      <th>400</th>\n",
       "      <td>17</td>\n",
       "      <td>7.810776e+06</td>\n",
       "    </tr>\n",
       "    <tr>\n",
       "      <th>425</th>\n",
       "      <td>18</td>\n",
       "      <td>7.812654e+06</td>\n",
       "    </tr>\n",
       "    <tr>\n",
       "      <th>450</th>\n",
       "      <td>19</td>\n",
       "      <td>7.813296e+06</td>\n",
       "    </tr>\n",
       "    <tr>\n",
       "      <th>475</th>\n",
       "      <td>20</td>\n",
       "      <td>7.812894e+06</td>\n",
       "    </tr>\n",
       "  </tbody>\n",
       "</table>\n",
       "</div>"
      ],
      "text/plain": [
       "     投標數(假設為)      得標總價(預測)\n",
       "0           1  7.397500e+06\n",
       "25          2  7.399045e+06\n",
       "50          3  7.400995e+06\n",
       "75          4  7.456127e+06\n",
       "100         5  7.555696e+06\n",
       "125         6  7.612902e+06\n",
       "150         7  7.624320e+06\n",
       "175         8  7.732640e+06\n",
       "200         9  7.744866e+06\n",
       "225        10  7.756961e+06\n",
       "250        11  7.768489e+06\n",
       "275        12  7.779075e+06\n",
       "300        13  7.788426e+06\n",
       "325        14  7.796339e+06\n",
       "350        15  7.802704e+06\n",
       "375        16  7.807498e+06\n",
       "400        17  7.810776e+06\n",
       "425        18  7.812654e+06\n",
       "450        19  7.813296e+06\n",
       "475        20  7.812894e+06"
      ]
     },
     "execution_count": 61,
     "metadata": {},
     "output_type": "execute_result"
    }
   ],
   "source": [
    "df_8C1[\"得標總價(預測)\"] = np.mean( [ df_8C1[\"SVR_得標總價(預測)\"], \n",
    "                                    df_8C1[\"ExtraTreesRegressor_得標總價(預測)\"] , \n",
    "                                    df_8C1[\"RandomForestRegressor_得標總價(預測)\"] ] , 0) \n",
    "df_8C1[ [\"投標數(假設為)\", \"得標總價(預測)\"] ]"
   ]
  },
  {
   "cell_type": "code",
   "execution_count": 62,
   "metadata": {
    "colab": {},
    "colab_type": "code",
    "id": "X4wH-SCDLAQs"
   },
   "outputs": [
    {
     "data": {
      "text/plain": [
       "[<matplotlib.lines.Line2D at 0x7fd44cfd95d0>]"
      ]
     },
     "execution_count": 62,
     "metadata": {},
     "output_type": "execute_result"
    },
    {
     "data": {
      "image/png": "[encoded data removed]",
      "text/plain": [
       "<Figure size 432x288 with 1 Axes>"
      ]
     },
     "metadata": {
      "needs_background": "light"
     },
     "output_type": "display_data"
    }
   ],
   "source": [
    "import matplotlib.pyplot as plt\n",
    "plt.xticks(range(1,21))\n",
    "plt.plot(df_8C1[\"投標數(假設為)\"], df_8C1[\"得標總價(預測)\"] , \"bo-\")\n"
   ]
  },
  {
   "cell_type": "code",
   "execution_count": null,
   "metadata": {},
   "outputs": [],
   "source": []
  }
 ],
 "metadata": {
  "colab": {
   "collapsed_sections": [],
   "name": "house_pred_20200424.ipynb",
   "provenance": []
  },
  "kernelspec": {
   "display_name": "Python 3",
   "language": "python",
   "name": "python3"
  },
  "language_info": {
   "codemirror_mode": {
    "name": "ipython",
    "version": 3
   },
   "file_extension": ".py",
   "mimetype": "text/x-python",
   "name": "python",
   "nbconvert_exporter": "python",
   "pygments_lexer": "ipython3",
   "version": "3.7.6"
  }
 },
 "nbformat": 4,
 "nbformat_minor": 4
}
